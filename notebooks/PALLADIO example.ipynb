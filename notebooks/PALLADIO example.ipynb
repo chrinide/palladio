{
 "cells": [
  {
   "cell_type": "markdown",
   "metadata": {},
   "source": [
    "# PALLADIO example"
   ]
  },
  {
   "cell_type": "markdown",
   "metadata": {},
   "source": [
    "## Imports"
   ]
  },
  {
   "cell_type": "code",
   "execution_count": 14,
   "metadata": {
    "collapsed": false
   },
   "outputs": [],
   "source": [
    "%matplotlib inline\n",
    "\n",
    "import pandas as pd\n",
    "import numpy as np\n",
    "\n",
    "# Plotting\n",
    "# import matplotlib\n",
    "# matplotlib.use('Agg')\n",
    "\n",
    "import palladio\n",
    "import palladio.analysis\n",
    "import palladio.plotting\n",
    "\n",
    "from collections import namedtuple\n",
    "\n",
    "# Dataset stuff\n",
    "from palladio import datasets\n",
    "\n",
    "# Classifiers\n",
    "from sklearn.feature_selection import RFE\n",
    "from sklearn.svm import LinearSVC\n",
    "from sklearn.pipeline import Pipeline\n",
    "\n",
    "# Model selection\n",
    "from sklearn.model_selection import GridSearchCV\n"
   ]
  },
  {
   "cell_type": "markdown",
   "metadata": {},
   "source": [
    "## Configuration"
   ]
  },
  {
   "cell_type": "markdown",
   "metadata": {},
   "source": [
    "### Datasets"
   ]
  },
  {
   "cell_type": "code",
   "execution_count": 2,
   "metadata": {
    "collapsed": false
   },
   "outputs": [],
   "source": [
    "# Dataset loading\n",
    "data_path = '/home/matteo/jdoe-shared/matteo/Thesis_experiments/Golub/data/gedm.csv'\n",
    "target_path = '/home/matteo/jdoe-shared/matteo/Thesis_experiments/Golub/data/labels.csv'\n",
    "\n",
    "data_loading_options = target_loading_options = {                                                                                                                                                                                  \n",
    "    'delimiter': ',',                                                                                                                                                                                     \n",
    "    'header': 0,                                                                                                                                                                                          \n",
    "    'index_col': 0                                                                                                                                                                                        \n",
    "}\n",
    "\n",
    "dataset = datasets.load_csv(data_path, target_path,                                                                                                                                                       \n",
    "                            data_loading_options=data_loading_options,                                                                                                                                    \n",
    "                            target_loading_options=target_loading_options,                                                                                                                                \n",
    "                            samples_on='col')                                                                                                                                                             \n",
    "data, labels = dataset.data, dataset.target\n",
    "feature_names = dataset.feature_names\n",
    "\n"
   ]
  },
  {
   "cell_type": "markdown",
   "metadata": {},
   "source": [
    "### Session"
   ]
  },
  {
   "cell_type": "code",
   "execution_count": 3,
   "metadata": {
    "collapsed": true
   },
   "outputs": [],
   "source": [
    "# Subfolder where results will be saved\n",
    "session_folder = '/tmp/results'\n",
    "\n",
    "# The learning task, if None palladio tries to guess it\n",
    "# [see sklearn.utils.multiclass.type_of_target]\n",
    "\n",
    "learning_task = None\n",
    "\n",
    "n_splits_permutation = 5\n",
    "n_splits_regular = 5"
   ]
  },
  {
   "cell_type": "markdown",
   "metadata": {},
   "source": [
    "### Learning algorithms"
   ]
  },
  {
   "cell_type": "code",
   "execution_count": 4,
   "metadata": {
    "collapsed": false
   },
   "outputs": [],
   "source": [
    "# STEP 1: Variable selection                                                                                                                                                                              \n",
    "vs = RFE(LinearSVC(loss='hinge'), step=0.3)                                                                                                                                                               \n",
    "\n",
    "# STEP 2: Classification                                                                                                                                                                                  \n",
    "clf = LinearSVC(loss='hinge')                                                                                                                                                                             \n",
    "\n",
    "# COMPOSE THE PIPELINE\n",
    "pipe = Pipeline([\n",
    "    ('variable_selection', vs),\n",
    "    ('classification', clf),\n",
    "])\n",
    "\n",
    "# Set the estimator to be a GridSearchCV\n",
    "param_grid = {\n",
    "    'variable_selection__n_features_to_select': [10, 20, 50],\n",
    "    'variable_selection__estimator__C': np.logspace(-4, 0, 5),\n",
    "    'classification__C': np.logspace(-4, 0, 5),\n",
    "}\n",
    "\n",
    "estimator = GridSearchCV(pipe, param_grid=param_grid, cv=3, scoring='accuracy')\n",
    "\n",
    "# Set options for ModelAssessment\n",
    "ma_options = {\n",
    "    'test_size': 0.25,\n",
    "    'scoring': 'accuracy',\n",
    "    'n_jobs': -1,\n",
    "    'n_splits': n_splits_regular\n",
    "}"
   ]
  },
  {
   "cell_type": "markdown",
   "metadata": {},
   "source": [
    "### Analysis configuration"
   ]
  },
  {
   "cell_type": "code",
   "execution_count": 5,
   "metadata": {
    "collapsed": true
   },
   "outputs": [],
   "source": [
    "vs_analysis = 'variable_selection'\n",
    "\n",
    "frequency_threshold = 0.75\n",
    "\n",
    "# Plotting Options\n",
    "score_surfaces_options = {\n",
    "    'logspace': ['variable_selection__C'],\n",
    "    'plot_errors': True\n",
    "}"
   ]
  },
  {
   "cell_type": "markdown",
   "metadata": {},
   "source": [
    "### Composing configuration object"
   ]
  },
  {
   "cell_type": "code",
   "execution_count": 6,
   "metadata": {
    "collapsed": false
   },
   "outputs": [],
   "source": [
    "# TODO must fix\n",
    "class Struct:\n",
    "    def __init__(self, **entries):\n",
    "        self.__dict__.update(entries)\n",
    "        \n",
    "config_dict = {\n",
    "    # Dataset\n",
    "    'data' : data,\n",
    "    'labels' : labels,\n",
    "    'feature_names' : feature_names,\n",
    "    # Session\n",
    "    'session_folder' : session_folder,\n",
    "    'learning_task' : learning_task,\n",
    "    'n_splits_permutation' : n_splits_permutation,\n",
    "    # Learning algorithm\n",
    "    'estimator' : estimator,\n",
    "    'param_grid' : param_grid,\n",
    "    'ma_options' : ma_options,\n",
    "    # Analysis\n",
    "    'vs_analysis' : vs_analysis,\n",
    "    'frequency_threshold' : frequency_threshold,\n",
    "    'score_surfaces_options' : score_surfaces_options,\n",
    "    \n",
    "    \n",
    "}\n",
    "\n",
    "config = Struct(**config_dict)"
   ]
  },
  {
   "cell_type": "markdown",
   "metadata": {},
   "source": [
    "## Experiment running"
   ]
  },
  {
   "cell_type": "code",
   "execution_count": 9,
   "metadata": {
    "collapsed": false
   },
   "outputs": [
    {
     "name": "stdout",
     "output_type": "stream",
     "text": [
      "Loading dataset...\n",
      "  * Data shape: (38, 7129)\n",
      "  * Labels shape: (38,)\n"
     ]
    }
   ],
   "source": [
    "regular_batch, permutation_batch = palladio.job_distribution.main(config=config)"
   ]
  },
  {
   "cell_type": "markdown",
   "metadata": {},
   "source": [
    "## Analysis"
   ]
  },
  {
   "cell_type": "code",
   "execution_count": 16,
   "metadata": {
    "collapsed": false
   },
   "outputs": [
    {
     "name": "stdout",
     "output_type": "stream",
     "text": [
      "[accuracy_score] Two sample Kolmogorov-Smirnov test: Ks_2sampResult(statistic=1.0, pvalue=0.0037813540593701006)\n"
     ]
    },
    {
     "data": {
      "image/png": "[encoded data removed]",
      "text/plain": [
       "<matplotlib.figure.Figure at 0x7f2c4074bd50>"
      ]
     },
     "metadata": {},
     "output_type": "display_data"
    }
   ],
   "source": [
    "# palladio.analysis.analyse_results(base_folder=\"/tmp/results\", analysis_folder='analysis', )\n",
    "\n",
    "# palladio.analysis.analyse_results(regular_batch.cv_results_, \n",
    "#                                   permutation_batch.cv_results_,\n",
    "#                                   config.labels,\n",
    "#                                   config.estimator,\n",
    "#                                   base_folder='/tmp/results',\n",
    "#                                   feature_names=config.feature_names,\n",
    "#                                   learning_task=None, vs_analysis='variable_selection',\n",
    "#                                 threshold=.75, model_assessment_options=None,\n",
    "#         analysis_folder='analysis',\n",
    "#         score_surfaces_options={})\n",
    "\n",
    "regular_batch.cv_results_\n",
    "\n",
    "performance_regular = palladio.analysis.performance_metrics(\n",
    "    regular_batch.cv_results_, \n",
    "    config.labels, \n",
    "    target='classification'\n",
    ")\n",
    "\n",
    "performance_permutation = palladio.analysis.performance_metrics(\n",
    "    permutation_batch.cv_results_, \n",
    "    config.labels, \n",
    "    target='classification'\n",
    ")\n",
    "\n",
    "metric = 'accuracy_score'\n",
    "\n",
    "palladio.plotting.distributions(\n",
    "            v_regular=performance_regular[metric],\n",
    "#             v_permutation=performance_permutation.get(metric, []),\n",
    "            v_permutation=performance_permutation[metric],\n",
    "            metric=metric\n",
    ")\n",
    "\n",
    "# performance_permutation\n"
   ]
  },
  {
   "cell_type": "code",
   "execution_count": null,
   "metadata": {
    "collapsed": true
   },
   "outputs": [],
   "source": []
  }
 ],
 "metadata": {
  "anaconda-cloud": {},
  "kernelspec": {
   "display_name": "Python [conda env:palladio]",
   "language": "python",
   "name": "conda-env-palladio-py"
  },
  "language_info": {
   "codemirror_mode": {
    "name": "ipython",
    "version": 2
   },
   "file_extension": ".py",
   "mimetype": "text/x-python",
   "name": "python",
   "nbconvert_exporter": "python",
   "pygments_lexer": "ipython2",
   "version": "2.7.13"
  }
 },
 "nbformat": 4,
 "nbformat_minor": 2
}
